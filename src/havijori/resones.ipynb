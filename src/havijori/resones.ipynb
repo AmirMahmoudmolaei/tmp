{
 "cells": [
  {
   "cell_type": "code",
   "execution_count": 4,
   "id": "efff4c07-52c0-43eb-9353-7690f7e883a0",
   "metadata": {},
   "outputs": [
    {
     "name": "stdout",
     "output_type": "stream",
     "text": [
      "Object `why` not found.\n"
     ]
    }
   ],
   "source": [
    "import why??"
   ]
  },
  {
   "cell_type": "code",
   "execution_count": null,
   "id": "5a4481a7-7d40-4434-8be3-b89c0a3f1d8b",
   "metadata": {},
   "outputs": [],
   "source": [
    "import why"
   ]
  },
  {
   "cell_type": "code",
   "execution_count": null,
   "id": "e0005e3b-1b77-48cf-939a-90f67a6a8216",
   "metadata": {},
   "outputs": [],
   "source": []
  }
 ],
 "metadata": {
  "kernelspec": {
   "display_name": "Python 3",
   "language": "python",
   "name": "python3"
  },
  "language_info": {
   "codemirror_mode": {
    "name": "ipython",
    "version": 3
   },
   "file_extension": ".py",
   "mimetype": "text/x-python",
   "name": "python",
   "nbconvert_exporter": "python",
   "pygments_lexer": "ipython3",
   "version": "3.9.5"
  }
 },
 "nbformat": 4,
 "nbformat_minor": 5
}
